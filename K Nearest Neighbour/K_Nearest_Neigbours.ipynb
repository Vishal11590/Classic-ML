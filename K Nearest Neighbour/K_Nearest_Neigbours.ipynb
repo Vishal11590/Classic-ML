{
  "nbformat": 4,
  "nbformat_minor": 0,
  "metadata": {
    "colab": {
      "provenance": []
    },
    "kernelspec": {
      "name": "python3",
      "display_name": "Python 3"
    },
    "language_info": {
      "name": "python"
    }
  },
  "cells": [
    {
      "cell_type": "markdown",
      "source": [
        "# K-Nearest Neighbour Algorithm\n",
        "\n",
        "- This model has been implemented from the scratch using the libraries **NumPy** and **Matplotlib**."
      ],
      "metadata": {
        "id": "DxRwe6JcL_gG"
      }
    },
    {
      "cell_type": "code",
      "source": [
        "from google.colab import files\n",
        "files.upload()"
      ],
      "metadata": {
        "colab": {
          "base_uri": "https://localhost:8080/",
          "height": 437
        },
        "collapsed": true,
        "id": "cedJyxUSSL6m",
        "outputId": "40f2acf9-f574-4b75-bee6-4ebb76195bd6"
      },
      "execution_count": 1,
      "outputs": [
        {
          "output_type": "display_data",
          "data": {
            "text/plain": [
              "<IPython.core.display.HTML object>"
            ],
            "text/html": [
              "\n",
              "     <input type=\"file\" id=\"files-3599ae63-1663-496c-ae38-bc5bc2e006aa\" name=\"files[]\" multiple disabled\n",
              "        style=\"border:none\" />\n",
              "     <output id=\"result-3599ae63-1663-496c-ae38-bc5bc2e006aa\">\n",
              "      Upload widget is only available when the cell has been executed in the\n",
              "      current browser session. Please rerun this cell to enable.\n",
              "      </output>\n",
              "      <script>// Copyright 2017 Google LLC\n",
              "//\n",
              "// Licensed under the Apache License, Version 2.0 (the \"License\");\n",
              "// you may not use this file except in compliance with the License.\n",
              "// You may obtain a copy of the License at\n",
              "//\n",
              "//      http://www.apache.org/licenses/LICENSE-2.0\n",
              "//\n",
              "// Unless required by applicable law or agreed to in writing, software\n",
              "// distributed under the License is distributed on an \"AS IS\" BASIS,\n",
              "// WITHOUT WARRANTIES OR CONDITIONS OF ANY KIND, either express or implied.\n",
              "// See the License for the specific language governing permissions and\n",
              "// limitations under the License.\n",
              "\n",
              "/**\n",
              " * @fileoverview Helpers for google.colab Python module.\n",
              " */\n",
              "(function(scope) {\n",
              "function span(text, styleAttributes = {}) {\n",
              "  const element = document.createElement('span');\n",
              "  element.textContent = text;\n",
              "  for (const key of Object.keys(styleAttributes)) {\n",
              "    element.style[key] = styleAttributes[key];\n",
              "  }\n",
              "  return element;\n",
              "}\n",
              "\n",
              "// Max number of bytes which will be uploaded at a time.\n",
              "const MAX_PAYLOAD_SIZE = 100 * 1024;\n",
              "\n",
              "function _uploadFiles(inputId, outputId) {\n",
              "  const steps = uploadFilesStep(inputId, outputId);\n",
              "  const outputElement = document.getElementById(outputId);\n",
              "  // Cache steps on the outputElement to make it available for the next call\n",
              "  // to uploadFilesContinue from Python.\n",
              "  outputElement.steps = steps;\n",
              "\n",
              "  return _uploadFilesContinue(outputId);\n",
              "}\n",
              "\n",
              "// This is roughly an async generator (not supported in the browser yet),\n",
              "// where there are multiple asynchronous steps and the Python side is going\n",
              "// to poll for completion of each step.\n",
              "// This uses a Promise to block the python side on completion of each step,\n",
              "// then passes the result of the previous step as the input to the next step.\n",
              "function _uploadFilesContinue(outputId) {\n",
              "  const outputElement = document.getElementById(outputId);\n",
              "  const steps = outputElement.steps;\n",
              "\n",
              "  const next = steps.next(outputElement.lastPromiseValue);\n",
              "  return Promise.resolve(next.value.promise).then((value) => {\n",
              "    // Cache the last promise value to make it available to the next\n",
              "    // step of the generator.\n",
              "    outputElement.lastPromiseValue = value;\n",
              "    return next.value.response;\n",
              "  });\n",
              "}\n",
              "\n",
              "/**\n",
              " * Generator function which is called between each async step of the upload\n",
              " * process.\n",
              " * @param {string} inputId Element ID of the input file picker element.\n",
              " * @param {string} outputId Element ID of the output display.\n",
              " * @return {!Iterable<!Object>} Iterable of next steps.\n",
              " */\n",
              "function* uploadFilesStep(inputId, outputId) {\n",
              "  const inputElement = document.getElementById(inputId);\n",
              "  inputElement.disabled = false;\n",
              "\n",
              "  const outputElement = document.getElementById(outputId);\n",
              "  outputElement.innerHTML = '';\n",
              "\n",
              "  const pickedPromise = new Promise((resolve) => {\n",
              "    inputElement.addEventListener('change', (e) => {\n",
              "      resolve(e.target.files);\n",
              "    });\n",
              "  });\n",
              "\n",
              "  const cancel = document.createElement('button');\n",
              "  inputElement.parentElement.appendChild(cancel);\n",
              "  cancel.textContent = 'Cancel upload';\n",
              "  const cancelPromise = new Promise((resolve) => {\n",
              "    cancel.onclick = () => {\n",
              "      resolve(null);\n",
              "    };\n",
              "  });\n",
              "\n",
              "  // Wait for the user to pick the files.\n",
              "  const files = yield {\n",
              "    promise: Promise.race([pickedPromise, cancelPromise]),\n",
              "    response: {\n",
              "      action: 'starting',\n",
              "    }\n",
              "  };\n",
              "\n",
              "  cancel.remove();\n",
              "\n",
              "  // Disable the input element since further picks are not allowed.\n",
              "  inputElement.disabled = true;\n",
              "\n",
              "  if (!files) {\n",
              "    return {\n",
              "      response: {\n",
              "        action: 'complete',\n",
              "      }\n",
              "    };\n",
              "  }\n",
              "\n",
              "  for (const file of files) {\n",
              "    const li = document.createElement('li');\n",
              "    li.append(span(file.name, {fontWeight: 'bold'}));\n",
              "    li.append(span(\n",
              "        `(${file.type || 'n/a'}) - ${file.size} bytes, ` +\n",
              "        `last modified: ${\n",
              "            file.lastModifiedDate ? file.lastModifiedDate.toLocaleDateString() :\n",
              "                                    'n/a'} - `));\n",
              "    const percent = span('0% done');\n",
              "    li.appendChild(percent);\n",
              "\n",
              "    outputElement.appendChild(li);\n",
              "\n",
              "    const fileDataPromise = new Promise((resolve) => {\n",
              "      const reader = new FileReader();\n",
              "      reader.onload = (e) => {\n",
              "        resolve(e.target.result);\n",
              "      };\n",
              "      reader.readAsArrayBuffer(file);\n",
              "    });\n",
              "    // Wait for the data to be ready.\n",
              "    let fileData = yield {\n",
              "      promise: fileDataPromise,\n",
              "      response: {\n",
              "        action: 'continue',\n",
              "      }\n",
              "    };\n",
              "\n",
              "    // Use a chunked sending to avoid message size limits. See b/62115660.\n",
              "    let position = 0;\n",
              "    do {\n",
              "      const length = Math.min(fileData.byteLength - position, MAX_PAYLOAD_SIZE);\n",
              "      const chunk = new Uint8Array(fileData, position, length);\n",
              "      position += length;\n",
              "\n",
              "      const base64 = btoa(String.fromCharCode.apply(null, chunk));\n",
              "      yield {\n",
              "        response: {\n",
              "          action: 'append',\n",
              "          file: file.name,\n",
              "          data: base64,\n",
              "        },\n",
              "      };\n",
              "\n",
              "      let percentDone = fileData.byteLength === 0 ?\n",
              "          100 :\n",
              "          Math.round((position / fileData.byteLength) * 100);\n",
              "      percent.textContent = `${percentDone}% done`;\n",
              "\n",
              "    } while (position < fileData.byteLength);\n",
              "  }\n",
              "\n",
              "  // All done.\n",
              "  yield {\n",
              "    response: {\n",
              "      action: 'complete',\n",
              "    }\n",
              "  };\n",
              "}\n",
              "\n",
              "scope.google = scope.google || {};\n",
              "scope.google.colab = scope.google.colab || {};\n",
              "scope.google.colab._files = {\n",
              "  _uploadFiles,\n",
              "  _uploadFilesContinue,\n",
              "};\n",
              "})(self);\n",
              "</script> "
            ]
          },
          "metadata": {}
        },
        {
          "output_type": "stream",
          "name": "stdout",
          "text": [
            "Saving k_nearest_neighbours.py to k_nearest_neighbours (1).py\n"
          ]
        },
        {
          "output_type": "execute_result",
          "data": {
            "text/plain": [
              "{'k_nearest_neighbours (1).py': b\"''' K-Nearest Algorithm '''\\r\\n\\r\\n# Importing numpy for numerical calculations\\r\\nimport numpy as np\\r\\n\\r\\nclass KNearestNeighbours:\\r\\n\\r\\n    def euclideanDistance(self,p1,p2):\\r\\n        ''' It calculates the euclidean distance between two instances and returns the distace '''\\r\\n        return np.sqrt(np.sum((p1 - p2) ** 2, axis = 1))\\r\\n\\r\\n    def fit(self,X_train,y_train):\\r\\n        ''' 'fit' method takes X_train, y_train (Data to get neighbouring values) as arguments.'''\\r\\n        self.X_train = X_train\\r\\n        self.y_train = y_train\\r\\n\\r\\n    def mode(self,l):\\r\\n        ''' 'mode' method takes and l(list of elements) and returns most frequently occurred element.\\r\\n        If multiple elements occur same number of times then smallest among them is returned.'''\\r\\n        return list(max(l,key=l.count))\\r\\n    \\r\\n    def predict(self,X_test,k):\\r\\n        ''' It takes X_test(Test data point), k(Numbers of neighbours to be considered) and returns predicted values.'''\\r\\n        \\r\\n        m,n = self.X_train.shape\\r\\n        mt,nt = X_test.shape\\r\\n\\r\\n        ypred = [] # Initializing y_pred(list) to store predicted values.\\r\\n\\r\\n        for i in range(mt):\\r\\n            test_point = X_test[i,:]\\r\\n            # Calculation of distance between training set and test case.\\r\\n            dists = self.euclideanDistance(self.X_train,test_point)\\r\\n            # Stores indices of distance values in the increasing order of distance.\\r\\n            sorted_dists_indices = np.argsort(dists)\\r\\n            # Stores y values of k nearest neighbours as list.\\r\\n            k_nearest_neighbours = list((self.y_train[sorted_dists_indices])[:k])\\r\\n            # Finds most frequent neighbour and assigns its value as ypred(predicted y).\\r\\n            ypred.append(self.mode(k_nearest_neighbours))\\r\\n\\r\\n        ypred = np.array(ypred) # Converting the list in to array\\r\\n        return ypred\\r\\n\\r\\n    def accuracy(self,y,ypred):\\r\\n        ''' It returns the accuracy of the testdata '''\\r\\n        return (np.mean(y == ypred) * 100)\"}"
            ]
          },
          "metadata": {},
          "execution_count": 1
        }
      ]
    },
    {
      "cell_type": "code",
      "execution_count": 2,
      "metadata": {
        "id": "n3dmASZ9QMBK"
      },
      "outputs": [],
      "source": [
        "# Importing the necessary libraries\n",
        "import numpy as np\n",
        "import matplotlib.pyplot as plt\n",
        "import pandas as pd"
      ]
    },
    {
      "cell_type": "code",
      "source": [
        "#Importing, splitting and assigning the training data\n",
        "train_dataset = pd.read_csv('/content/sample_data/mnist_train_small.csv',header=None)\n",
        "Xtrain = np.array(train_dataset.iloc[:,1:])\n",
        "ytrain = np.array(train_dataset.iloc[:,0:1])\n",
        "\n",
        "#Importing, splitting and assigning the testing data\n",
        "test_dataset = pd.read_csv('/content/sample_data/mnist_test.csv',header=None)\n",
        "Xtest = np.array(test_dataset.iloc[:,1:])\n",
        "ytest = np.array(test_dataset.iloc[:,0:1])"
      ],
      "metadata": {
        "id": "1GtI_R7VRSYn"
      },
      "execution_count": 3,
      "outputs": []
    },
    {
      "cell_type": "code",
      "source": [
        "train_samples = Xtrain.shape[0]\n",
        "test_samples = Xtest.shape[0]\n",
        "print(Xtrain.shape,ytrain.shape)\n",
        "print(Xtest.shape,ytest.shape)"
      ],
      "metadata": {
        "colab": {
          "base_uri": "https://localhost:8080/"
        },
        "id": "gdIpXo8yRzNK",
        "outputId": "a02f437d-3a9d-4c69-a05f-9193299f0255"
      },
      "execution_count": 4,
      "outputs": [
        {
          "output_type": "stream",
          "name": "stdout",
          "text": [
            "(20000, 784) (20000, 1)\n",
            "(10000, 784) (10000, 1)\n"
          ]
        }
      ]
    },
    {
      "cell_type": "code",
      "source": [
        "from k_nearest_neighbours import KNearestNeighbours"
      ],
      "metadata": {
        "id": "CMtl5CCbSV2h"
      },
      "execution_count": 5,
      "outputs": []
    },
    {
      "cell_type": "code",
      "source": [
        "model = KNearestNeighbours()\n",
        "model.fit(Xtrain,ytrain)\n",
        "\n",
        "# Takes Xtest and 'k' as its arguments and predicts the output\n",
        "ypred = model.predict(Xtest,5)"
      ],
      "metadata": {
        "id": "WIdr9kwgSedL"
      },
      "execution_count": 6,
      "outputs": []
    },
    {
      "cell_type": "code",
      "source": [
        "acc = model.accuracy(ytest,ypred) # Accuracy on the test data\n",
        "print(\"Accuracy of KNN Algorithm on Test Data : \",acc)"
      ],
      "metadata": {
        "colab": {
          "base_uri": "https://localhost:8080/"
        },
        "id": "eQ4ezliCStBe",
        "outputId": "c9faf6c1-07c9-483b-d6de-36bf5e214686"
      },
      "execution_count": 7,
      "outputs": [
        {
          "output_type": "stream",
          "name": "stdout",
          "text": [
            "Accuracy of KNN Algorithm on Test Data :  95.97\n"
          ]
        }
      ]
    },
    {
      "cell_type": "code",
      "source": [
        "import random\n",
        "indices = random.sample(range(0,test_samples),2500)\n",
        "\n",
        "# Accuracy values for different values of k = 5,11,101,501 by choosing 2500 samples randomly\n",
        "k_values = [5,11,101,501]\n",
        "test_accuracy = []\n",
        "\n",
        "for i in k_values:\n",
        "  y_pred = model.predict(Xtest[indices],i)\n",
        "  acc = model.accuracy(ytest[indices],y_pred)\n",
        "  test_accuracy.append(acc)"
      ],
      "metadata": {
        "id": "hjhUOCeraGAf"
      },
      "execution_count": 9,
      "outputs": []
    },
    {
      "cell_type": "markdown",
      "source": [
        "### Plot of accuracies for various values of k"
      ],
      "metadata": {
        "id": "ZezIkfKbUqGP"
      }
    },
    {
      "cell_type": "code",
      "source": [
        "plt.plot(k_values,test_accuracy,ms=4)\n",
        "plt.xlabel('Number of Nearest Neighbours (k)')\n",
        "plt.ylabel('Accuracy on Test Data')\n",
        "plt.title(\"Comparision of Accuracies for different values of 'k'\")\n",
        "plt.show()"
      ],
      "metadata": {
        "id": "vJlIETM2a_qS",
        "colab": {
          "base_uri": "https://localhost:8080/",
          "height": 472
        },
        "outputId": "496fe3b2-b4f4-49f3-ca32-ad438d7fdd36"
      },
      "execution_count": 12,
      "outputs": [
        {
          "output_type": "display_data",
          "data": {
            "text/plain": [
              "<Figure size 640x480 with 1 Axes>"
            ],
            "image/png": "[encoded data removed]"
          },
          "metadata": {}
        }
      ]
    },
    {
      "cell_type": "markdown",
      "source": [
        "## K-Nearest Algorithm using scikit-learn"
      ],
      "metadata": {
        "id": "7ygJHFbHT9Qd"
      }
    },
    {
      "cell_type": "code",
      "source": [
        "from sklearn.neighbors import KNeighborsClassifier\n",
        "sk_model = KNeighborsClassifier(n_neighbors=5)\n",
        "sk_model.fit(Xtrain,ytrain.ravel())\n",
        "sk_acc = sk_model.score(Xtest,ytest)*100\n",
        "print(\"Accuracy of SkLearn's KNN Algorithm on Test Data :\",sk_acc)"
      ],
      "metadata": {
        "colab": {
          "base_uri": "https://localhost:8080/"
        },
        "id": "RhujO0YZYJTY",
        "outputId": "b5e42b1a-70a5-40b5-a91d-39d02f99be71"
      },
      "execution_count": 11,
      "outputs": [
        {
          "output_type": "stream",
          "name": "stdout",
          "text": [
            "Accuracy of SkLearn's KNN Algorithm on Test Data : 95.91\n"
          ]
        }
      ]
    },
    {
      "cell_type": "code",
      "source": [],
      "metadata": {
        "id": "blxE7fshZrX4"
      },
      "execution_count": null,
      "outputs": []
    }
  ]
}