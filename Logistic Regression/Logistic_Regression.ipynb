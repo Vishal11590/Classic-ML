{
  "nbformat": 4,
  "nbformat_minor": 0,
  "metadata": {
    "colab": {
      "provenance": []
    },
    "kernelspec": {
      "name": "python3",
      "display_name": "Python 3"
    },
    "language_info": {
      "name": "python"
    }
  },
  "cells": [
    {
      "cell_type": "markdown",
      "source": [
        "# Logistic Regression Model\n",
        "\n",
        "- The model has been implemented from the scratch using the libraries **NumPy** and **Matplotlib**."
      ],
      "metadata": {
        "id": "brNdbea3meNG"
      }
    },
    {
      "cell_type": "code",
      "execution_count": 1,
      "metadata": {
        "colab": {
          "base_uri": "https://localhost:8080/",
          "height": 611
        },
        "collapsed": true,
        "id": "IbLTscOnrwEl",
        "outputId": "7d8ac456-a600-406e-ab53-65daab5d07e5"
      },
      "outputs": [
        {
          "output_type": "display_data",
          "data": {
            "text/plain": [
              "<IPython.core.display.HTML object>"
            ],
            "text/html": [
              "\n",
              "     <input type=\"file\" id=\"files-a73b3ca7-757a-4c9f-93f0-a8da9983ee73\" name=\"files[]\" multiple disabled\n",
              "        style=\"border:none\" />\n",
              "     <output id=\"result-a73b3ca7-757a-4c9f-93f0-a8da9983ee73\">\n",
              "      Upload widget is only available when the cell has been executed in the\n",
              "      current browser session. Please rerun this cell to enable.\n",
              "      </output>\n",
              "      <script>// Copyright 2017 Google LLC\n",
              "//\n",
              "// Licensed under the Apache License, Version 2.0 (the \"License\");\n",
              "// you may not use this file except in compliance with the License.\n",
              "// You may obtain a copy of the License at\n",
              "//\n",
              "//      http://www.apache.org/licenses/LICENSE-2.0\n",
              "//\n",
              "// Unless required by applicable law or agreed to in writing, software\n",
              "// distributed under the License is distributed on an \"AS IS\" BASIS,\n",
              "// WITHOUT WARRANTIES OR CONDITIONS OF ANY KIND, either express or implied.\n",
              "// See the License for the specific language governing permissions and\n",
              "// limitations under the License.\n",
              "\n",
              "/**\n",
              " * @fileoverview Helpers for google.colab Python module.\n",
              " */\n",
              "(function(scope) {\n",
              "function span(text, styleAttributes = {}) {\n",
              "  const element = document.createElement('span');\n",
              "  element.textContent = text;\n",
              "  for (const key of Object.keys(styleAttributes)) {\n",
              "    element.style[key] = styleAttributes[key];\n",
              "  }\n",
              "  return element;\n",
              "}\n",
              "\n",
              "// Max number of bytes which will be uploaded at a time.\n",
              "const MAX_PAYLOAD_SIZE = 100 * 1024;\n",
              "\n",
              "function _uploadFiles(inputId, outputId) {\n",
              "  const steps = uploadFilesStep(inputId, outputId);\n",
              "  const outputElement = document.getElementById(outputId);\n",
              "  // Cache steps on the outputElement to make it available for the next call\n",
              "  // to uploadFilesContinue from Python.\n",
              "  outputElement.steps = steps;\n",
              "\n",
              "  return _uploadFilesContinue(outputId);\n",
              "}\n",
              "\n",
              "// This is roughly an async generator (not supported in the browser yet),\n",
              "// where there are multiple asynchronous steps and the Python side is going\n",
              "// to poll for completion of each step.\n",
              "// This uses a Promise to block the python side on completion of each step,\n",
              "// then passes the result of the previous step as the input to the next step.\n",
              "function _uploadFilesContinue(outputId) {\n",
              "  const outputElement = document.getElementById(outputId);\n",
              "  const steps = outputElement.steps;\n",
              "\n",
              "  const next = steps.next(outputElement.lastPromiseValue);\n",
              "  return Promise.resolve(next.value.promise).then((value) => {\n",
              "    // Cache the last promise value to make it available to the next\n",
              "    // step of the generator.\n",
              "    outputElement.lastPromiseValue = value;\n",
              "    return next.value.response;\n",
              "  });\n",
              "}\n",
              "\n",
              "/**\n",
              " * Generator function which is called between each async step of the upload\n",
              " * process.\n",
              " * @param {string} inputId Element ID of the input file picker element.\n",
              " * @param {string} outputId Element ID of the output display.\n",
              " * @return {!Iterable<!Object>} Iterable of next steps.\n",
              " */\n",
              "function* uploadFilesStep(inputId, outputId) {\n",
              "  const inputElement = document.getElementById(inputId);\n",
              "  inputElement.disabled = false;\n",
              "\n",
              "  const outputElement = document.getElementById(outputId);\n",
              "  outputElement.innerHTML = '';\n",
              "\n",
              "  const pickedPromise = new Promise((resolve) => {\n",
              "    inputElement.addEventListener('change', (e) => {\n",
              "      resolve(e.target.files);\n",
              "    });\n",
              "  });\n",
              "\n",
              "  const cancel = document.createElement('button');\n",
              "  inputElement.parentElement.appendChild(cancel);\n",
              "  cancel.textContent = 'Cancel upload';\n",
              "  const cancelPromise = new Promise((resolve) => {\n",
              "    cancel.onclick = () => {\n",
              "      resolve(null);\n",
              "    };\n",
              "  });\n",
              "\n",
              "  // Wait for the user to pick the files.\n",
              "  const files = yield {\n",
              "    promise: Promise.race([pickedPromise, cancelPromise]),\n",
              "    response: {\n",
              "      action: 'starting',\n",
              "    }\n",
              "  };\n",
              "\n",
              "  cancel.remove();\n",
              "\n",
              "  // Disable the input element since further picks are not allowed.\n",
              "  inputElement.disabled = true;\n",
              "\n",
              "  if (!files) {\n",
              "    return {\n",
              "      response: {\n",
              "        action: 'complete',\n",
              "      }\n",
              "    };\n",
              "  }\n",
              "\n",
              "  for (const file of files) {\n",
              "    const li = document.createElement('li');\n",
              "    li.append(span(file.name, {fontWeight: 'bold'}));\n",
              "    li.append(span(\n",
              "        `(${file.type || 'n/a'}) - ${file.size} bytes, ` +\n",
              "        `last modified: ${\n",
              "            file.lastModifiedDate ? file.lastModifiedDate.toLocaleDateString() :\n",
              "                                    'n/a'} - `));\n",
              "    const percent = span('0% done');\n",
              "    li.appendChild(percent);\n",
              "\n",
              "    outputElement.appendChild(li);\n",
              "\n",
              "    const fileDataPromise = new Promise((resolve) => {\n",
              "      const reader = new FileReader();\n",
              "      reader.onload = (e) => {\n",
              "        resolve(e.target.result);\n",
              "      };\n",
              "      reader.readAsArrayBuffer(file);\n",
              "    });\n",
              "    // Wait for the data to be ready.\n",
              "    let fileData = yield {\n",
              "      promise: fileDataPromise,\n",
              "      response: {\n",
              "        action: 'continue',\n",
              "      }\n",
              "    };\n",
              "\n",
              "    // Use a chunked sending to avoid message size limits. See b/62115660.\n",
              "    let position = 0;\n",
              "    do {\n",
              "      const length = Math.min(fileData.byteLength - position, MAX_PAYLOAD_SIZE);\n",
              "      const chunk = new Uint8Array(fileData, position, length);\n",
              "      position += length;\n",
              "\n",
              "      const base64 = btoa(String.fromCharCode.apply(null, chunk));\n",
              "      yield {\n",
              "        response: {\n",
              "          action: 'append',\n",
              "          file: file.name,\n",
              "          data: base64,\n",
              "        },\n",
              "      };\n",
              "\n",
              "      let percentDone = fileData.byteLength === 0 ?\n",
              "          100 :\n",
              "          Math.round((position / fileData.byteLength) * 100);\n",
              "      percent.textContent = `${percentDone}% done`;\n",
              "\n",
              "    } while (position < fileData.byteLength);\n",
              "  }\n",
              "\n",
              "  // All done.\n",
              "  yield {\n",
              "    response: {\n",
              "      action: 'complete',\n",
              "    }\n",
              "  };\n",
              "}\n",
              "\n",
              "scope.google = scope.google || {};\n",
              "scope.google.colab = scope.google.colab || {};\n",
              "scope.google.colab._files = {\n",
              "  _uploadFiles,\n",
              "  _uploadFilesContinue,\n",
              "};\n",
              "})(self);\n",
              "</script> "
            ]
          },
          "metadata": {}
        },
        {
          "output_type": "stream",
          "name": "stdout",
          "text": [
            "Saving logistic_regression.py to logistic_regression (1).py\n"
          ]
        },
        {
          "output_type": "execute_result",
          "data": {
            "text/plain": [
              "{'logistic_regression (1).py': b'\\'\\'\\' Logistic Regression Model \\'\\'\\'\\r\\n\\r\\n# Importing necessary libraries\\r\\nimport numpy as np\\r\\nimport matplotlib.pyplot as plt\\r\\n\\r\\nclass LogisticRegression():\\r\\n    # Initializing some useful variables\\r\\n    def __init__(self,lr=0.5,lamda=1e-4,num_iters=500):\\r\\n        \\'\\'\\' \\'__init__\\' takes arguments as Learning Rate(lr), Regularization Constant(lamda), Number of Iterations(num_iters)\\'\\'\\'\\r\\n        # All these parameters have been initialized by their default values, they can be changed when required\\r\\n        self.lr = lr\\r\\n        self.lamda = lamda\\r\\n        self.num_iters = num_iters\\r\\n\\r\\n    \\'\\'\\' Feature scaling using Standardization Technique \\'\\'\\'\\r\\n    def feature_scale(self,X):\\r\\n        for i in range(X.shape[1]):\\r\\n            X[:,i] = (X[:,i] - np.mean(X[:,i])) / (np.std(X[:,i]) + 1e-5)\\r\\n        return X\\r\\n\\r\\n    \\'\\'\\' Sigmoid function maps all the values in the range of 0 to 1 \\'\\'\\'\\r\\n    def sigmoid(self,z):\\r\\n        return 1 / (1 + np.exp(-1*z))\\r\\n\\r\\n    \\'\\'\\' It takes X and w as its arguments and returns Hypothesis Value(h = Matrix Multiplication of X and w) \\'\\'\\'\\r\\n    def hypothesis_function(self,X,w):\\r\\n        return (self.sigmoid(X @ w.T))\\r\\n\\r\\n    \\'\\'\\' Cost method takes X,y and w as its arguments and returns cost value with regularization \\'\\'\\'\\r\\n    def cost_function(self,X,y,w):\\r\\n        m,n = X.shape\\r\\n        h = self.hypothesis_function(X,w)\\r\\n        J = (-1 / m) * (np.sum(y * np.log(h + 1e-5) + (1 - y) * np.log(1 - h + 1e-5))) + (self.lamda / (2 * m)) * np.sum(w[:,1:] ** 2)\\r\\n        return J\\r\\n\\r\\n    \\'\\'\\' \\'fit\\' function takes X,y and number of different classes as its arguments and applies Gradient Descent Algorithm to get weights \\'\\'\\'\\r\\n    def fit(self,X,y,n_class):\\r\\n        X = self.feature_scale(X) # Feature Scaling\\r\\n        X = np.hstack((np.ones((len(X),1)),X)) # Adds Bias column\\r\\n\\r\\n        m,n = X.shape\\r\\n        \\r\\n        self.n_class = n_class\\r\\n\\r\\n        y_class = np.zeros((m,self.n_class)) # Created a matrix of size m x n_class with all entries as zeros\\r\\n\\r\\n        # Converts \\'y\\' values to \\'y_class\\' as matrix type \\r\\n        for i in range(m):\\r\\n            y_class[i,y[i]] = 1\\r\\n        \\r\\n        # \\'Jhistory\\' and \\'iters\\' keeps track of cost with each iteration\\r\\n        self.Jhistory,self.iters = [],[]\\r\\n\\r\\n        # Values of weights have been initialized to zero\\r\\n        self.w = np.zeros((self.n_class,n))\\r\\n\\r\\n        # Applying Gradient Descent Algorithm\\r\\n        for i in range(self.num_iters):\\r\\n            w_temp = self.w\\r\\n            w_temp[:,0:1] = 0\\r\\n\\r\\n            h = self.hypothesis_function(X,self.w)\\r\\n            self.w -= ((self.lr / m) * ((h - y_class).T @ X + self.lamda * w_temp))\\r\\n\\r\\n            # Storing the value of Cost(J) in each iteration\\r\\n            self.Jhistory.append(self.cost_function(X,y_class,self.w))\\r\\n            self.iters.append(i)\\r\\n    \\r\\n    \\'\\'\\' Plotting the learning curve between cost and number of iterations \\'\\'\\'\\r\\n    def plot(self):\\r\\n        plt.plot(self.iters,self.Jhistory,color=\\'#00008B\\')\\r\\n        plt.xlabel(\"Number of Iterations\")\\r\\n        plt.ylabel(\"Cost Function(J)\")\\r\\n        plt.title(\"Cost Function Vs Iterations\")\\r\\n\\r\\n    \\'\\'\\' It returns the predicted values given by the trained model \\'\\'\\'\\r\\n    def predict(self,X):\\r\\n        X = self.feature_scale(X)\\r\\n        X = np.hstack((np.ones((len(X),1)),X))\\r\\n        ypred = self.hypothesis_function(X,self.w)\\r\\n        ypred = np.argmax(ypred,axis=1).reshape(len(ypred),1)\\r\\n        return ypred\\r\\n\\r\\n    \\'\\'\\' Calculates and returns the probability of the sample for each class in the model \\'\\'\\'\\r\\n    def predict_prob(self,X):\\r\\n        X = self.feature_scale(X)\\r\\n        m,n = X.shape\\r\\n        X = np.hstack((np.ones((m,1)),X))\\r\\n        ypred_prob = self.hypothesis_function(X,self.w)\\r\\n        return ypred_prob\\r\\n    \\r\\n    \\'\\'\\' It returns the accuracy of the trained model \\'\\'\\'\\r\\n    def accuracy(self,y,ypred):\\r\\n        return (np.mean(y == ypred) * 100)\\r\\n\\r\\n    \\'\\'\\' It returns the confusion matrix by taking y and ypred as its arguments \\'\\'\\'\\r\\n    def confusion_matrix(self,y,ypred):\\r\\n        matrix = np.zeros((self.n_class,self.n_class))\\r\\n        for i in range(len(y)):\\r\\n            matrix[y[i][0],ypred[i][0]] += 1\\r\\n        return matrix'}"
            ]
          },
          "metadata": {},
          "execution_count": 1
        }
      ],
      "source": [
        "from google.colab import files\n",
        "files.upload()"
      ]
    },
    {
      "cell_type": "code",
      "source": [
        "# Importing necessary libraries\n",
        "import numpy as np\n",
        "import pandas as pd\n",
        "import matplotlib.pyplot as plt"
      ],
      "metadata": {
        "id": "674JcfnBr4dq"
      },
      "execution_count": 2,
      "outputs": []
    },
    {
      "cell_type": "code",
      "source": [
        "#Importing, splitting and assigning the training data\n",
        "train_dataset = pd.read_csv('/content/sample_data/mnist_train_small.csv',header=None)\n",
        "Xtrain = np.array(train_dataset.iloc[:,1:])\n",
        "ytrain = np.array(train_dataset.iloc[:,0:1])\n",
        "\n",
        "#Importing, splitting and assigning the testing data\n",
        "test_data = pd.read_csv('sample_data/mnist_test.csv', header=None)\n",
        "Xtest = np.array(test_data.iloc[:,1:])\n",
        "ytest = np.array(test_data.iloc[:,0:1])"
      ],
      "metadata": {
        "id": "vyMuPUjKsLxm"
      },
      "execution_count": 3,
      "outputs": []
    },
    {
      "cell_type": "code",
      "source": [
        "train_samples = Xtrain.shape[0]\n",
        "test_samples = Xtest.shape[0]\n",
        "print(Xtrain.shape,ytrain.shape)\n",
        "print(Xtest.shape,ytest.shape)"
      ],
      "metadata": {
        "colab": {
          "base_uri": "https://localhost:8080/"
        },
        "id": "uz8IHVw5smKt",
        "outputId": "717c5d26-dccb-4469-b20a-2ddd3ef8ea06"
      },
      "execution_count": 4,
      "outputs": [
        {
          "output_type": "stream",
          "name": "stdout",
          "text": [
            "(20000, 784) (20000, 1)\n",
            "(10000, 784) (10000, 1)\n"
          ]
        }
      ]
    },
    {
      "cell_type": "code",
      "source": [
        "num_class = len(np.unique(ytrain))\n",
        "print(num_class)"
      ],
      "metadata": {
        "colab": {
          "base_uri": "https://localhost:8080/"
        },
        "id": "c8iTMCLdtcfi",
        "outputId": "4b22200b-55bc-4bd8-95ac-eef95713d3ef"
      },
      "execution_count": 5,
      "outputs": [
        {
          "output_type": "stream",
          "name": "stdout",
          "text": [
            "10\n"
          ]
        }
      ]
    },
    {
      "cell_type": "code",
      "source": [
        "from logistic_regression import LogisticRegression"
      ],
      "metadata": {
        "id": "kFr_i-4as6Eb"
      },
      "execution_count": 6,
      "outputs": []
    },
    {
      "cell_type": "code",
      "source": [
        "model = LogisticRegression(lr=0.6,lamda=1e-2,num_iters=200)\n",
        "# Takes Xtrain, ytrain and num_class as its arguments and update the weights\n",
        "model.fit(Xtrain,ytrain,num_class)"
      ],
      "metadata": {
        "id": "Ha1oJEXGs-Te"
      },
      "execution_count": 7,
      "outputs": []
    },
    {
      "cell_type": "code",
      "source": [
        "model.plot() # Plotting (Cost Function vs Iterations)"
      ],
      "metadata": {
        "colab": {
          "base_uri": "https://localhost:8080/",
          "height": 472
        },
        "id": "WUboOAZLtXhU",
        "outputId": "53a0db00-0e8d-48a3-c541-4512c970eda4"
      },
      "execution_count": 8,
      "outputs": [
        {
          "output_type": "display_data",
          "data": {
            "text/plain": [
              "<Figure size 640x480 with 1 Axes>"
            ],
            "image/png": "[encoded data removed]"
          },
          "metadata": {}
        }
      ]
    },
    {
      "cell_type": "code",
      "source": [
        "ypred = model.predict(Xtrain)\n",
        "print('Training Data Accuracy : ',model.accuracy(ytrain,ypred))\n",
        "ytpred = model.predict(Xtest)\n",
        "print('Testing Data Accuracy : ',model.accuracy(ytest,ytpred))"
      ],
      "metadata": {
        "colab": {
          "base_uri": "https://localhost:8080/"
        },
        "id": "j3cRCJwbxfRH",
        "outputId": "287b5cdf-6550-43a6-be99-b1070f182357"
      },
      "execution_count": 9,
      "outputs": [
        {
          "output_type": "stream",
          "name": "stdout",
          "text": [
            "Training Data Accuracy :  91.545\n",
            "Testing Data Accuracy :  90.05\n"
          ]
        }
      ]
    },
    {
      "cell_type": "markdown",
      "source": [
        "## Plot between expected and predicted output"
      ],
      "metadata": {
        "id": "0qF_fCmwn-St"
      }
    },
    {
      "cell_type": "code",
      "source": [
        "# Training Dataset\n",
        "plt.scatter(list(range(0,train_samples,1000)),ytrain[0:train_samples:1000,:],label=\"Expected Values\")\n",
        "plt.scatter(list(range(0,train_samples,1000)),ypred[0:train_samples:1000,:],label=\"Predicted Values\")\n",
        "plt.xlabel(\"Number of Samples\")\n",
        "plt.ylabel(\"Output Values\")\n",
        "plt.title(\"Training Dataset\")\n",
        "plt.legend()\n",
        "plt.show()"
      ],
      "metadata": {
        "colab": {
          "base_uri": "https://localhost:8080/",
          "height": 472
        },
        "id": "Se44UWgkn78u",
        "outputId": "5be13c8a-3a57-4a5c-c10b-d31d6bd9cb4f"
      },
      "execution_count": 10,
      "outputs": [
        {
          "output_type": "display_data",
          "data": {
            "text/plain": [
              "<Figure size 640x480 with 1 Axes>"
            ],
            "image/png": "[encoded data removed]"
          },
          "metadata": {}
        }
      ]
    },
    {
      "cell_type": "code",
      "source": [
        "# Testing Dataset\n",
        "plt.scatter(list(range(0,test_samples,1000)),ytest[0:test_samples:1000,:],label=\"Expected Values\")\n",
        "plt.scatter(list(range(0,test_samples,1000)),ytpred[0:test_samples:1000,:],label=\"Predicted Values\")\n",
        "plt.xlabel(\"Number of Samples\")\n",
        "plt.ylabel(\"Output Values\")\n",
        "plt.title(\"Testing Dataset\")\n",
        "plt.legend()\n",
        "plt.show()"
      ],
      "metadata": {
        "colab": {
          "base_uri": "https://localhost:8080/",
          "height": 472
        },
        "id": "yVMXdOnjogQl",
        "outputId": "c86c7f8b-c454-4e4a-9a34-dded0f042e31"
      },
      "execution_count": 11,
      "outputs": [
        {
          "output_type": "display_data",
          "data": {
            "text/plain": [
              "<Figure size 640x480 with 1 Axes>"
            ],
            "image/png": "[encoded data removed]"
          },
          "metadata": {}
        }
      ]
    },
    {
      "cell_type": "markdown",
      "source": [
        "## Logistic Regression using scikit-learn"
      ],
      "metadata": {
        "id": "30tHNtBNozuq"
      }
    },
    {
      "cell_type": "code",
      "source": [
        "# Logistic Regression using scikit learn.\n",
        "from sklearn.linear_model import LogisticRegression\n",
        "from sklearn.preprocessing import StandardScaler\n",
        "\n",
        "sk_model = LogisticRegression()\n",
        "\n",
        "# Applying feature scaling by standardzing the data.\n",
        "scaler = StandardScaler()\n",
        "Xtrain = scaler.fit(Xtrain).transform(Xtrain)\n",
        "Xtest = scaler.fit(Xtest).transform(Xtest)\n",
        "\n",
        "# Converting the 'y' array into a 1D list\n",
        "ytrain = ytrain.ravel()\n",
        "ytest = ytest.ravel()\n",
        "\n",
        "# Takes Xtrain, ytrain(Training data) and updates parameters.\n",
        "sk_model.fit(Xtrain,ytrain)\n",
        "\n",
        "# Calculates and prints accuracy of trained model with training, testing data.\n",
        "print('Sklearn Training Accuracy : ', sk_model.score(Xtrain,ytrain)*100)\n",
        "print('Sklearn Testing Accuracy : ', sk_model.score(Xtest,ytest)*100)"
      ],
      "metadata": {
        "colab": {
          "base_uri": "https://localhost:8080/"
        },
        "id": "uqUGdETnzUOu",
        "outputId": "45af01c2-2e4a-4595-b0b4-9bf865e1ccd7"
      },
      "execution_count": 12,
      "outputs": [
        {
          "output_type": "stream",
          "name": "stdout",
          "text": [
            "Sklearn Training Accuracy :  97.175\n",
            "Sklearn Testing Accuracy :  88.3\n"
          ]
        },
        {
          "output_type": "stream",
          "name": "stderr",
          "text": [
            "/usr/local/lib/python3.10/dist-packages/sklearn/linear_model/_logistic.py:458: ConvergenceWarning: lbfgs failed to converge (status=1):\n",
            "STOP: TOTAL NO. of ITERATIONS REACHED LIMIT.\n",
            "\n",
            "Increase the number of iterations (max_iter) or scale the data as shown in:\n",
            "    https://scikit-learn.org/stable/modules/preprocessing.html\n",
            "Please also refer to the documentation for alternative solver options:\n",
            "    https://scikit-learn.org/stable/modules/linear_model.html#logistic-regression\n",
            "  n_iter_i = _check_optimize_result(\n"
          ]
        }
      ]
    },
    {
      "cell_type": "code",
      "source": [],
      "metadata": {
        "id": "YtJdD99b0aPO"
      },
      "execution_count": null,
      "outputs": []
    }
  ]
}